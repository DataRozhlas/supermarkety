{
 "metadata": {
  "name": "",
  "signature": "sha256:38f70ff4ae1df0f2970232a023a3b1bd1ab52352524363f6fc4ee154dcfd7df3"
 },
 "nbformat": 3,
 "nbformat_minor": 0,
 "worksheets": [
  {
   "cells": [
    {
     "cell_type": "code",
     "collapsed": false,
     "input": [
      "import urllib\n",
      "import sys\n",
      "import pandas as pd\n",
      "import json\n",
      "import csv\n",
      "import numpy as np\n",
      "import time"
     ],
     "language": "python",
     "metadata": {},
     "outputs": [],
     "prompt_number": 1
    },
    {
     "cell_type": "code",
     "collapsed": false,
     "input": [
      "data = pd.read_csv(r'data/supermarkety-only.csv')"
     ],
     "language": "python",
     "metadata": {},
     "outputs": [],
     "prompt_number": 2
    },
    {
     "cell_type": "code",
     "collapsed": false,
     "input": [
      "addbuffer = {}"
     ],
     "language": "python",
     "metadata": {},
     "outputs": [],
     "prompt_number": 4
    },
    {
     "cell_type": "code",
     "collapsed": false,
     "input": [
      "data['x'] = np.nan\n",
      "data['y'] = np.nan"
     ],
     "language": "python",
     "metadata": {},
     "outputs": [],
     "prompt_number": 5
    },
    {
     "cell_type": "code",
     "collapsed": false,
     "input": [
      "for i, row in data.iterrows():\n",
      "    try:\n",
      "        adresa = row[0]\n",
      "        if (adresa in addbuffer):\n",
      "            data.loc[i, 'x'] = addbuffer[adresa]['lng']\n",
      "            data.loc[i, 'y'] = addbuffer[adresa]['lat']\n",
      "        else:\n",
      "            time.sleep(0.25)\n",
      "            params = urllib.parse.urlencode({'address': adresa})\n",
      "            stranka = urllib.request.urlopen('http://maps.googleapis.com/maps/api/geocode/json?%s' % params)\n",
      "\n",
      "            str_response = stranka.readall().decode('utf-8')\n",
      "            obj = json.loads(str_response)\n",
      "            latlng = obj['results'][0]['geometry']['location']\n",
      "\n",
      "            addbuffer[adresa] = latlng\n",
      "\n",
      "            data.loc[i, 'x'] = latlng['lng']\n",
      "            data.loc[i, 'y'] = latlng['lat']\n",
      "    except:\n",
      "        print(adresa)\n",
      "        data.loc[i, 'x'] = np.nan\n",
      "        data.loc[i, 'y'] = np.nan"
     ],
     "language": "python",
     "metadata": {},
     "outputs": [
      {
       "output_type": "stream",
       "stream": "stdout",
       "text": [
        "Krausova 714, Praha\n",
        "Obchodn\u00ed, \u0160ternberk"
       ]
      },
      {
       "output_type": "stream",
       "stream": "stdout",
       "text": [
        "\n",
        "Su\u0161ick\u00e1, Vimperk"
       ]
      },
      {
       "output_type": "stream",
       "stream": "stdout",
       "text": [
        "\n",
        "Pod Al\u017eb\u011btinkami 196, Jablunkov"
       ]
      },
      {
       "output_type": "stream",
       "stream": "stdout",
       "text": [
        "\n",
        "Na B\u011blidlech 1059, Litomy\u0161l"
       ]
      },
      {
       "output_type": "stream",
       "stream": "stdout",
       "text": [
        "\n",
        "T. G. MasarykaT.G.Masaryka 23, Su\u0161ice"
       ]
      },
      {
       "output_type": "stream",
       "stream": "stdout",
       "text": [
        "\n"
       ]
      }
     ],
     "prompt_number": 6
    },
    {
     "cell_type": "code",
     "collapsed": false,
     "input": [
      "data.to_csv(r'data/supermarkety-only_geocoded.csv', index=None, encoding='utf-8')"
     ],
     "language": "python",
     "metadata": {},
     "outputs": [],
     "prompt_number": 10
    }
   ],
   "metadata": {}
  }
 ]
}